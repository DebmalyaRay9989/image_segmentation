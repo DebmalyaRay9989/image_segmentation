{
 "cells": [
  {
   "cell_type": "code",
   "execution_count": null,
   "metadata": {},
   "outputs": [],
   "source": [
    "# %%\n",
    "import cv2\n",
    "import numpy as np\n",
    "import glob\n",
    "import csv\n",
    "import os\n",
    "import matplotlib.pyplot as plt\n",
    "import argparse\n"
   ]
  },
  {
   "cell_type": "code",
   "execution_count": null,
   "metadata": {},
   "outputs": [],
   "source": [
    "# %%\n",
    "\n",
    "image = cv2.imread(\"water_droplets23.jpg\")\n",
    "path = \"water_droplets23.jpg\"\n",
    "file1 = glob.glob(path)\n",
    "\n",
    "# initialize the list of reference points and boolean indicating\n",
    "\n",
    "\n",
    "def unsharp_mask(image, blur_size = (5,5), imgWeight = 1.5, gaussianWeight = -0.5):\n",
    "        gaussian = cv2.GaussianBlur(image, (5,5), 0)\n",
    "        return cv2.addWeighted(image, imgWeight, gaussian, gaussianWeight, 0)\n",
    "\n",
    "# whether cropping is being performed or not\n",
    "refPt = []\n",
    "cropping = False\n",
    "\n",
    "image = unsharp_mask(image)\n",
    "\n",
    "mask = np.zeros(image.shape, dtype=np.uint8)\n",
    "gray = cv2.cvtColor(image, cv2.COLOR_BGR2GRAY)\n",
    "med_blur = cv2.medianBlur(gray, ksize=3)\n",
    "_, thresh = cv2.threshold(med_blur, 190, 255, cv2.THRESH_BINARY)\n",
    "blending = cv2.addWeighted(gray, 0.5, thresh, 0.9, gamma=0)\n",
    "thresh = cv2.threshold(gray,0,255, cv2.THRESH_BINARY_INV + cv2.THRESH_OTSU)[1]\n",
    "edged = cv2.Canny(blending, 30, 200)\n",
    "\n"
   ]
  },
  {
   "cell_type": "code",
   "execution_count": null,
   "metadata": {},
   "outputs": [],
   "source": [
    "# %%\n",
    "cv2.__version__\n",
    "\n",
    "# Import DictWriter class from CSV module\n",
    "from csv import DictWriter\n"
   ]
  },
  {
   "cell_type": "code",
   "execution_count": null,
   "metadata": {},
   "outputs": [],
   "source": [
    "# %%\n",
    "# Find contours and filter using contour area\n",
    "contours, hierarchy = cv2.findContours(edged, cv2.RETR_EXTERNAL, cv2.CHAIN_APPROX_SIMPLE)\n",
    "center_moments= cv2.moments(contours[0])\n",
    "#contours = contours[0:-1] # takes out contour bounding the whole image\n",
    "\n",
    "cv2.drawContours(image = edged,\n",
    "                 contours = contours,\n",
    "                 contourIdx = -1,\n",
    "                 color = (0, 0, 255),\n",
    "                 thickness = 5)\n",
    "\n",
    "\n",
    "def mouse_call_back(event, x, y, flags, param):\n",
    "    if event == cv2.EVENT_LBUTTONDOWN:\n",
    "        for i in range(0, len(contours)):\n",
    "            r = cv2.pointPolygonTest(contours[i], (y, x), False)\n",
    "            print(r)\n",
    "            if r > 0:\n",
    "                print(\"Selected contour \", i)\n",
    "\n"
   ]
  },
  {
   "cell_type": "code",
   "execution_count": null,
   "metadata": {},
   "outputs": [],
   "source": [
    "# %%\n",
    "total_area = 0\n",
    "l1 = []\n",
    "#l2 = []\n",
    "smallest = sorted(contours, key=cv2.contourArea)[0]\n",
    "largest = sorted(contours, key=cv2.contourArea)[-1]\n",
    "\n"
   ]
  },
  {
   "cell_type": "code",
   "execution_count": null,
   "metadata": {},
   "outputs": [],
   "source": [
    "# %%\n",
    "# Visualize result better\n",
    "result = cv2.bitwise_and(image, image, mask=thresh)\n",
    "result[thresh==0] = (255,255,255)\n",
    "\n",
    "\n",
    "cv2.namedWindow(\"res\")\n",
    "cv2.drawContours(image, contours, -1, (0, 255, 0), 3)\n",
    "for idx, c in enumerate(contours):  # numbers the contours\n",
    "    x = int(sum(c[:,0,0]) / len(c))\n",
    "    y = int(sum(c[:,0,1]) / len(c))\n",
    "    #x,y,w,h = cv2.boundingRect(c)\n",
    "    area = cv2.contourArea(c)\n",
    "    if (area > 4.0):\n",
    "        l1.append(area)\n",
    "        image = cv2.drawContours(image, [c], 0, (222, 49, 99), 3)\n",
    "        cv2.putText(image, str(idx), (x, y), cv2.FONT_HERSHEY_SIMPLEX, 1, (0, 0, 204), 2)\n",
    "    total_area += area\n",
    "cv2.imshow(\"res\", image)\n",
    "\n",
    "print(\"*************************************************************************************************\")\n",
    "print(\"*************************************************************************************************\")\n",
    "print(\"The Image Name : \", file1)\n",
    "print(\"Number of Droplets found : \" + str(len(l1)))\n",
    "print(\"The list of area of each water droplets : \", l1)\n",
    "print('Total area: {}'.format(total_area))\n",
    "print(\"**************************************************************************************************\")\n",
    "print(\"**************************************************************************************************\")\n",
    "file_exists = os.path.isfile('result3.csv')\n",
    "with open('result3.csv', 'a', newline='') as f_object:\n",
    "    field_names = ['NAME', 'DROPLET_COUNT_APPROX', 'DROPLETS_SIZE_LIST', 'TOTAL_AREA_COVERED']\n",
    "    writer = csv.DictWriter(f_object,  delimiter=',', lineterminator='\\n',fieldnames=field_names)\n",
    "    if not file_exists:\n",
    "        writer.writeheader()\n",
    "    writer.writerow({'NAME': file1,\n",
    "                    'DROPLET_COUNT_APPROX': str(len(l1)),\n",
    "                    'DROPLETS_SIZE_LIST': l1,\n",
    "                    'TOTAL_AREA_COVERED': total_area})\n",
    "    cv2.waitKey()\n",
    "    f_object.close()\n",
    "\n"
   ]
  },
  {
   "cell_type": "code",
   "execution_count": null,
   "metadata": {},
   "outputs": [],
   "source": [
    "# %%\n",
    "\n"
   ]
  }
 ],
 "metadata": {
  "language_info": {
   "codemirror_mode": {
    "name": "ipython",
    "version": 3
   },
   "file_extension": ".py",
   "mimetype": "text/x-python",
   "name": "python",
   "nbconvert_exporter": "python",
   "pygments_lexer": "ipython3",
   "version": 3
  }
 },
 "nbformat": 4,
 "nbformat_minor": 2
}
